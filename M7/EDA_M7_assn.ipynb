{
 "cells": [
  {
   "cell_type": "markdown",
   "metadata": {},
   "source": [
    "# Project 1 (M6): Regression for Numeric Data\n",
    "# DAV 6150\n",
    "\n",
    "- Group Members: Qing Dou, Ruoyu Chen, Zhengnan Li\n",
    "- Repository: https://github.com/Zhengnan817/DAV-6150/tree/1f6efa951f5b5984564fb500ce7e1d4271e0e147/Project_1"
   ]
  },
  {
   "cell_type": "code",
   "execution_count": null,
   "metadata": {},
   "outputs": [],
   "source": []
  }
 ],
 "metadata": {
  "kernelspec": {
   "display_name": "Python 3.8.5 ('yolox')",
   "language": "python",
   "name": "python3"
  },
  "language_info": {
   "name": "python",
   "version": "3.8.5"
  },
  "orig_nbformat": 4,
  "vscode": {
   "interpreter": {
    "hash": "8ef54075041f332877bc209aa71293608dc12058505644605b2811ab06d06494"
   }
  }
 },
 "nbformat": 4,
 "nbformat_minor": 2
}
