{
 "cells": [
  {
   "cell_type": "markdown",
   "metadata": {},
   "source": [
    "# M4: Feature Selection & Dimensionality Reduction\n",
    "# DAV 6150\n",
    "\n",
    "- Group Members: Qing Dou, Ruoyu Chen, Zhengnan Li\n",
    "- Repository: "
   ]
  },
  {
   "cell_type": "code",
   "execution_count": null,
   "metadata": {},
   "outputs": [],
   "source": []
  }
 ],
 "metadata": {
  "kernelspec": {
   "display_name": "Python 3.8.5 ('yolox')",
   "language": "python",
   "name": "python3"
  },
  "language_info": {
   "name": "python",
   "version": "3.8.5"
  },
  "orig_nbformat": 4,
  "vscode": {
   "interpreter": {
    "hash": "8ef54075041f332877bc209aa71293608dc12058505644605b2811ab06d06494"
   }
  }
 },
 "nbformat": 4,
 "nbformat_minor": 2
}
