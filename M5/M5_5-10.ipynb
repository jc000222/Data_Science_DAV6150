{
 "cells": [
  {
   "cell_type": "code",
   "execution_count": 1,
   "metadata": {},
   "outputs": [],
   "source": [
    "import pandas as pd\n",
    "import matplotlib.pyplot as plt\n",
    "df=pd.read_csv(\"M5_Data.csv\")"
   ]
  },
  {
   "cell_type": "markdown",
   "metadata": {},
   "source": [
    "# Task 5-9\n",
    "In this part, we create a function that accepts as input the actual and predicted classifications for any binary classification data and then calculates and returns the metrics for the predictions without utilizing any pre-built Python metric calculation functions. Using the crosstab function to calculate the TP,FP, TN and FN, we can easily get the accuracy, precision, sensitivity, specificity, and F1 Score of the prediction result."
   ]
  },
  {
   "cell_type": "code",
   "execution_count": 2,
   "metadata": {},
   "outputs": [],
   "source": [
    "def task5_9(actual, predicted):\n",
    "    \"\"\"\n",
    "    Calculate accuracy metric for binary classification.\n",
    "    \n",
    "    Args:\n",
    "    actual_labels: List of actual labels.\n",
    "    predicted_labels: List of predicted labels.\n",
    "    \n",
    "    Returns:\n",
    "    tuple: (accuracy, precision, sensitivity, specificity, f1_score).\n",
    "    \"\"\"\n",
    "    confusion_matrix = pd.crosstab(actual, predicted)\n",
    "    TP = confusion_matrix.loc[1, 1]\n",
    "    FP = confusion_matrix.loc[0, 1]\n",
    "    TN = confusion_matrix.loc[0, 0]\n",
    "    FN = confusion_matrix.loc[1, 0]\n",
    "\n",
    "    accuracy = (TP + TN) / (TP + FP + TN + FN) if (TP + FP + TN + FN) > 0 else 0\n",
    "    precision = TP / (TP + FP) if (TP + FP) > 0 else 0\n",
    "    sensitivity = TP / (TP + FN) if (TP + FN) > 0 else 0\n",
    "    specificity = TN / (TN + FP) if (TN + FP) > 0 else 0\n",
    "    f1_score = 2 * (precision * sensitivity) / (precision + sensitivity) if (precision + sensitivity) > 0 else 0\n",
    "    return accuracy, precision, sensitivity, specificity, f1_score\n"
   ]
  },
  {
   "cell_type": "code",
   "execution_count": 3,
   "metadata": {},
   "outputs": [
    {
     "name": "stdout",
     "output_type": "stream",
     "text": [
      "Accuracy:     0.8066298342541437\n",
      "Precision:    0.84375\n",
      "Sensitivity:  0.47368421052631576\n",
      "Specificity:  0.9596774193548387\n",
      "F1 Score:     0.6067415730337079\n"
     ]
    }
   ],
   "source": [
    "accuracy, precision, sensitivity, specificity, f1_score = task5_9(df['class'], df['scored.class'])\n",
    "print(\"Accuracy:    \", accuracy)\n",
    "print(\"Precision:   \", precision)\n",
    "print(\"Sensitivity: \", sensitivity)\n",
    "print(\"Specificity: \", specificity)\n",
    "print(\"F1 Score:    \", f1_score)"
   ]
  },
  {
   "cell_type": "markdown",
   "metadata": {},
   "source": [
    "# Task 10\n",
    "In this part, we will first sort the predicted probabilities and corresponding actual labels from high to low and use a loop to calculate the accumulated tpr and fpr to plot the ROC curve. Calculate the area under the curve and we can get the final AUC value."
   ]
  },
  {
   "cell_type": "code",
   "execution_count": 26,
   "metadata": {},
   "outputs": [
    {
     "data": {
      "image/png": "[encoded data removed]",
      "text/plain": [
       "<Figure size 640x480 with 1 Axes>"
      ]
     },
     "metadata": {},
     "output_type": "display_data"
    },
    {
     "name": "stdout",
     "output_type": "stream",
     "text": [
      "AUC: 0.8503112620260332\n"
     ]
    }
   ],
   "source": [
    "\n",
    "\n",
    "def ROC_AUC(actual, predicted_probabilities):\n",
    "    \"\"\"\n",
    "    Plot ROC curve and calculate AUC.\n",
    "\n",
    "    Args:\n",
    "    actual (list): List of actual labels.\n",
    "    predicted_probabilities (list): List of predicted probabilities for the positive class.\n",
    "\n",
    "    Returns:\n",
    "    float: AUC value.\n",
    "    \"\"\"\n",
    "    # Sort the predicted probabilities and corresponding actual labels\n",
    "    sorted_indices = sorted(range(len(predicted_probabilities)), key=lambda i: predicted_probabilities[i], reverse=True)\n",
    "    actual_sorted = [actual[i] for i in sorted_indices]\n",
    "    predicted_probabilities_sorted = [predicted_probabilities[i] for i in sorted_indices]\n",
    "\n",
    "    # Initialize variables\n",
    "    tpr_list, fpr_list = [0],[0]\n",
    "    auc=0\n",
    "    tp = fp = 0\n",
    "    total_positive = sum(actual)\n",
    "    total_negative = len(actual) - sum(actual)\n",
    "\n",
    "    # Calculate TPR and FPR\n",
    "    for i in range(len(actual)):\n",
    "        if actual_sorted[i] == 1:\n",
    "            tp += 1\n",
    "        else:\n",
    "            fp += 1\n",
    "\n",
    "        tpr = tp / total_positive\n",
    "        fpr = fp / total_negative\n",
    "        tpr_list.append(tpr)\n",
    "        fpr_list.append(fpr)\n",
    "\n",
    "    # Calculate area under the curve which is the final AUC value\n",
    "    for i in range(len(fpr_list) - 1):\n",
    "        auc += (fpr_list[i + 1] - fpr_list[i]) * (tpr_list[i + 1] + tpr_list[i]) / 2\n",
    "\n",
    "    # Plot ROC curve\n",
    "    plt.plot(fpr_list, tpr_list, marker='.', linestyle='-')\n",
    "    plt.xlabel('False Positive Rate')\n",
    "    plt.ylabel('True Positive Rate')\n",
    "    plt.title('ROC Curve')\n",
    "    plt.grid(True)\n",
    "    plt.show()\n",
    "\n",
    "    return auc\n",
    "auc = ROC_AUC(df['class'], df['scored.probability'])\n",
    "print(\"AUC:\", auc)"
   ]
  },
  {
   "cell_type": "markdown",
   "metadata": {},
   "source": [
    "From the ROC Curve results, we can infer that the relationship between sensitivity and specificity is performing well. The AUC calculation shows a approximate 0.85. A higher AUC value indicates a better performance of the model at distinguishing the positive and negative classes, thus the model performs well."
   ]
  }
 ],
 "metadata": {
  "kernelspec": {
   "display_name": "Python 3.10.13 ('AP')",
   "language": "python",
   "name": "python3"
  },
  "language_info": {
   "codemirror_mode": {
    "name": "ipython",
    "version": 3
   },
   "file_extension": ".py",
   "mimetype": "text/x-python",
   "name": "python",
   "nbconvert_exporter": "python",
   "pygments_lexer": "ipython3",
   "version": "3.10.13"
  },
  "orig_nbformat": 4,
  "vscode": {
   "interpreter": {
    "hash": "b1ed10256b798dfe2af017ac6cb23cd3655eebf7de92fb5ac9de5f54fe908f00"
   }
  }
 },
 "nbformat": 4,
 "nbformat_minor": 2
}
