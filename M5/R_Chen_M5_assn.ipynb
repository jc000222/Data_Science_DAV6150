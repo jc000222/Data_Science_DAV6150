{
 "cells": [
  {
   "cell_type": "markdown",
   "metadata": {},
   "source": [
    "# M5: Classification Model Performance Metrics\n",
    "# DAV 6150\n",
    "\n",
    "- Group Members: Qing Dou, Ruoyu Chen, Zhengnan Li\n",
    "- Repository: https://github.com/Zhengnan817/DAV-6150/tree/f8f833270c9ec2695a2883782784cb272d4e0127/M5"
   ]
  },
  {
   "cell_type": "markdown",
   "metadata": {},
   "source": [
    "## Introduction\n",
    "Evaluation of the performance of classification models can be facilitated through a combination of calculating certain types of performance metrics and generating model performance evaluation graphics. For this assignment we will be tasked with calculating a suite of classification model performance metrics via Python code functions that we create and then comparing our results to those of pre-built Python functions that automatically calculate those same metrics. We will also be creating graphical output via Python code that can be used to evaluate the performance of classification models."
   ]
  },
  {
   "cell_type": "markdown",
   "metadata": {},
   "source": [
    "## Task\n",
    "### Task 1-2\n",
    "Load the provided M5_Data.csv file to our DAV 6150 Github Repository.Using a Jupyter Notebook, read the data set from our Github repository and load it into a Pandas dataframe."
   ]
  },
  {
   "cell_type": "code",
   "execution_count": 2,
   "metadata": {},
   "outputs": [
    {
     "data": {
      "text/html": [
       "<div>\n",
       "<style scoped>\n",
       "    .dataframe tbody tr th:only-of-type {\n",
       "        vertical-align: middle;\n",
       "    }\n",
       "\n",
       "    .dataframe tbody tr th {\n",
       "        vertical-align: top;\n",
       "    }\n",
       "\n",
       "    .dataframe thead th {\n",
       "        text-align: right;\n",
       "    }\n",
       "</style>\n",
       "<table border=\"1\" class=\"dataframe\">\n",
       "  <thead>\n",
       "    <tr style=\"text-align: right;\">\n",
       "      <th></th>\n",
       "      <th>pregnant</th>\n",
       "      <th>glucose</th>\n",
       "      <th>diastolic</th>\n",
       "      <th>skinfold</th>\n",
       "      <th>insulin</th>\n",
       "      <th>bmi</th>\n",
       "      <th>pedigree</th>\n",
       "      <th>age</th>\n",
       "      <th>class</th>\n",
       "      <th>scored.class</th>\n",
       "      <th>scored.probability</th>\n",
       "    </tr>\n",
       "  </thead>\n",
       "  <tbody>\n",
       "    <tr>\n",
       "      <th>0</th>\n",
       "      <td>7</td>\n",
       "      <td>124</td>\n",
       "      <td>70</td>\n",
       "      <td>33</td>\n",
       "      <td>215</td>\n",
       "      <td>25.5</td>\n",
       "      <td>0.161</td>\n",
       "      <td>37</td>\n",
       "      <td>0</td>\n",
       "      <td>0</td>\n",
       "      <td>0.328452</td>\n",
       "    </tr>\n",
       "    <tr>\n",
       "      <th>1</th>\n",
       "      <td>2</td>\n",
       "      <td>122</td>\n",
       "      <td>76</td>\n",
       "      <td>27</td>\n",
       "      <td>200</td>\n",
       "      <td>35.9</td>\n",
       "      <td>0.483</td>\n",
       "      <td>26</td>\n",
       "      <td>0</td>\n",
       "      <td>0</td>\n",
       "      <td>0.273190</td>\n",
       "    </tr>\n",
       "    <tr>\n",
       "      <th>2</th>\n",
       "      <td>3</td>\n",
       "      <td>107</td>\n",
       "      <td>62</td>\n",
       "      <td>13</td>\n",
       "      <td>48</td>\n",
       "      <td>22.9</td>\n",
       "      <td>0.678</td>\n",
       "      <td>23</td>\n",
       "      <td>1</td>\n",
       "      <td>0</td>\n",
       "      <td>0.109660</td>\n",
       "    </tr>\n",
       "    <tr>\n",
       "      <th>3</th>\n",
       "      <td>1</td>\n",
       "      <td>91</td>\n",
       "      <td>64</td>\n",
       "      <td>24</td>\n",
       "      <td>0</td>\n",
       "      <td>29.2</td>\n",
       "      <td>0.192</td>\n",
       "      <td>21</td>\n",
       "      <td>0</td>\n",
       "      <td>0</td>\n",
       "      <td>0.055998</td>\n",
       "    </tr>\n",
       "    <tr>\n",
       "      <th>4</th>\n",
       "      <td>4</td>\n",
       "      <td>83</td>\n",
       "      <td>86</td>\n",
       "      <td>19</td>\n",
       "      <td>0</td>\n",
       "      <td>29.3</td>\n",
       "      <td>0.317</td>\n",
       "      <td>34</td>\n",
       "      <td>0</td>\n",
       "      <td>0</td>\n",
       "      <td>0.100491</td>\n",
       "    </tr>\n",
       "    <tr>\n",
       "      <th>...</th>\n",
       "      <td>...</td>\n",
       "      <td>...</td>\n",
       "      <td>...</td>\n",
       "      <td>...</td>\n",
       "      <td>...</td>\n",
       "      <td>...</td>\n",
       "      <td>...</td>\n",
       "      <td>...</td>\n",
       "      <td>...</td>\n",
       "      <td>...</td>\n",
       "      <td>...</td>\n",
       "    </tr>\n",
       "    <tr>\n",
       "      <th>176</th>\n",
       "      <td>5</td>\n",
       "      <td>123</td>\n",
       "      <td>74</td>\n",
       "      <td>40</td>\n",
       "      <td>77</td>\n",
       "      <td>34.1</td>\n",
       "      <td>0.269</td>\n",
       "      <td>28</td>\n",
       "      <td>0</td>\n",
       "      <td>0</td>\n",
       "      <td>0.311420</td>\n",
       "    </tr>\n",
       "    <tr>\n",
       "      <th>177</th>\n",
       "      <td>4</td>\n",
       "      <td>146</td>\n",
       "      <td>78</td>\n",
       "      <td>0</td>\n",
       "      <td>0</td>\n",
       "      <td>38.5</td>\n",
       "      <td>0.520</td>\n",
       "      <td>67</td>\n",
       "      <td>1</td>\n",
       "      <td>1</td>\n",
       "      <td>0.707210</td>\n",
       "    </tr>\n",
       "    <tr>\n",
       "      <th>178</th>\n",
       "      <td>8</td>\n",
       "      <td>188</td>\n",
       "      <td>78</td>\n",
       "      <td>0</td>\n",
       "      <td>0</td>\n",
       "      <td>47.9</td>\n",
       "      <td>0.137</td>\n",
       "      <td>43</td>\n",
       "      <td>1</td>\n",
       "      <td>1</td>\n",
       "      <td>0.888277</td>\n",
       "    </tr>\n",
       "    <tr>\n",
       "      <th>179</th>\n",
       "      <td>9</td>\n",
       "      <td>120</td>\n",
       "      <td>72</td>\n",
       "      <td>22</td>\n",
       "      <td>56</td>\n",
       "      <td>20.8</td>\n",
       "      <td>0.733</td>\n",
       "      <td>48</td>\n",
       "      <td>0</td>\n",
       "      <td>0</td>\n",
       "      <td>0.422468</td>\n",
       "    </tr>\n",
       "    <tr>\n",
       "      <th>180</th>\n",
       "      <td>0</td>\n",
       "      <td>102</td>\n",
       "      <td>86</td>\n",
       "      <td>17</td>\n",
       "      <td>105</td>\n",
       "      <td>29.3</td>\n",
       "      <td>0.695</td>\n",
       "      <td>27</td>\n",
       "      <td>0</td>\n",
       "      <td>0</td>\n",
       "      <td>0.119981</td>\n",
       "    </tr>\n",
       "  </tbody>\n",
       "</table>\n",
       "<p>181 rows × 11 columns</p>\n",
       "</div>"
      ],
      "text/plain": [
       "     pregnant  glucose  diastolic  skinfold  insulin   bmi  pedigree  age  \\\n",
       "0           7      124         70        33      215  25.5     0.161   37   \n",
       "1           2      122         76        27      200  35.9     0.483   26   \n",
       "2           3      107         62        13       48  22.9     0.678   23   \n",
       "3           1       91         64        24        0  29.2     0.192   21   \n",
       "4           4       83         86        19        0  29.3     0.317   34   \n",
       "..        ...      ...        ...       ...      ...   ...       ...  ...   \n",
       "176         5      123         74        40       77  34.1     0.269   28   \n",
       "177         4      146         78         0        0  38.5     0.520   67   \n",
       "178         8      188         78         0        0  47.9     0.137   43   \n",
       "179         9      120         72        22       56  20.8     0.733   48   \n",
       "180         0      102         86        17      105  29.3     0.695   27   \n",
       "\n",
       "     class  scored.class  scored.probability  \n",
       "0        0             0            0.328452  \n",
       "1        0             0            0.273190  \n",
       "2        1             0            0.109660  \n",
       "3        0             0            0.055998  \n",
       "4        0             0            0.100491  \n",
       "..     ...           ...                 ...  \n",
       "176      0             0            0.311420  \n",
       "177      1             1            0.707210  \n",
       "178      1             1            0.888277  \n",
       "179      0             0            0.422468  \n",
       "180      0             0            0.119981  \n",
       "\n",
       "[181 rows x 11 columns]"
      ]
     },
     "execution_count": 2,
     "metadata": {},
     "output_type": "execute_result"
    }
   ],
   "source": [
    "import pandas as pd\n",
    "df = pd.read_csv(\"https://raw.githubusercontent.com/Zhengnan817/DAV-6150/main/M5/src/M5_Data.csv\")\n",
    "df"
   ]
  },
  {
   "cell_type": "markdown",
   "metadata": {},
   "source": [
    "### Task 3\n",
    "In this part, we will use crosstab() function to create a confusion matrix, to evaluate binary classification model performance. And the matrix compares actual versus predicted classifications, shows the counts of True Positives, False Positives, True Negatives, and False Negatives."
   ]
  },
  {
   "cell_type": "code",
   "execution_count": 3,
   "metadata": {},
   "outputs": [
    {
     "name": "stdout",
     "output_type": "stream",
     "text": [
      "Confusion Matrix:\n",
      " Predicted    0   1\n",
      "Actual            \n",
      "0          119   5\n",
      "1           30  27\n"
     ]
    }
   ],
   "source": [
    "# Calculate the confusion matrix\n",
    "confusion_matrix = pd.crosstab(df['class'], df['scored.class'], rownames=['Actual'], colnames=['Predicted'])\n",
    "\n",
    "# Print the confusion matrix\n",
    "print(\"Confusion Matrix:\\n\", confusion_matrix)"
   ]
  },
  {
   "cell_type": "code",
   "execution_count": 4,
   "metadata": {},
   "outputs": [
    {
     "name": "stdout",
     "output_type": "stream",
     "text": [
      "Actual class distribution:\n",
      " class\n",
      "0    124\n",
      "1     57\n",
      "Name: count, dtype: int64\n",
      "-------------------------------\n",
      "Predicted class distribution:\n",
      " scored.class\n",
      "0    149\n",
      "1     32\n",
      "Name: count, dtype: int64\n"
     ]
    }
   ],
   "source": [
    "# Observe the distribution of actual and predicted classifications\n",
    "print(\"Actual class distribution:\\n\", df['class'].value_counts())\n",
    "print(\"-------------------------------\")\n",
    "print(\"Predicted class distribution:\\n\", df['scored.class'].value_counts())"
   ]
  },
  {
   "cell_type": "markdown",
   "metadata": {},
   "source": [
    "From the confusion matrix, we can verify that the sums of the rows correspond to the actual class distribution: 119 + 5 = 124 and 30 + 27 = 57. What's more, the column sums correspond with the predicted class distribution: 119 + 30 = 149 and 5 + 27 = 32."
   ]
  },
  {
   "cell_type": "markdown",
   "metadata": {},
   "source": [
    "### Task 4\n",
    "In this part, we will extract key performance metrics from the confusion matrix: True Positives (TP), False Positives (FP), True Negatives (TN), and False Negatives (FN). The output shows that the model predicts 27 True Positives, 119 True Negatives, 5 False Positives, and 30 False Negatives, which are important for evaluating the performance of the classification model."
   ]
  },
  {
   "cell_type": "code",
   "execution_count": 5,
   "metadata": {},
   "outputs": [
    {
     "name": "stdout",
     "output_type": "stream",
     "text": [
      "True Positives: 27\n",
      "True Negatives: 119\n",
      "False Positives: 5\n",
      "False Negatives: 30\n"
     ]
    }
   ],
   "source": [
    "# Extracting values from the confusion matrix\n",
    "TP = confusion_matrix.loc[1, 1] \n",
    "TN = confusion_matrix.loc[0, 0]  \n",
    "FP = confusion_matrix.loc[0, 1]  \n",
    "FN = confusion_matrix.loc[1, 0]  \n",
    "\n",
    "# Displaying the extracted values\n",
    "print(f\"True Positives: {TP}\")\n",
    "print(f\"True Negatives: {TN}\")\n",
    "print(f\"False Positives: {FP}\")\n",
    "print(f\"False Negatives: {FN}\")"
   ]
  },
  {
   "cell_type": "markdown",
   "metadata": {},
   "source": [
    "### Task 5-9\n",
    "In this part, we create a function that accepts as input the actual and predicted classifications for any binary classification data and then calculates and returns the metrics for the predictions without utilizing any pre-built Python metric calculation functions. Using the crosstab function to calculate the TP,FP, TN and FN, we can easily get the accuracy, precision, sensitivity, specificity, and F1 Score of the prediction result.\n"
   ]
  },
  {
   "cell_type": "code",
   "execution_count": 6,
   "metadata": {},
   "outputs": [],
   "source": [
    "def task5_9(actual, predicted):\n",
    "    \"\"\"\n",
    "    Calculate accuracy metric for binary classification.\n",
    "    \n",
    "    Args:\n",
    "    actual_labels: List of actual labels.\n",
    "    predicted_labels: List of predicted labels.\n",
    "    \n",
    "    Returns:\n",
    "    tuple: (accuracy, precision, sensitivity, specificity, f1_score).\n",
    "    \"\"\"\n",
    "    confusion_matrix = pd.crosstab(actual, predicted)\n",
    "    TP = confusion_matrix.loc[1, 1]\n",
    "    FP = confusion_matrix.loc[0, 1]\n",
    "    TN = confusion_matrix.loc[0, 0]\n",
    "    FN = confusion_matrix.loc[1, 0]\n",
    "\n",
    "    accuracy = (TP + TN) / (TP + FP + TN + FN) if (TP + FP + TN + FN) > 0 else 0\n",
    "    precision = TP / (TP + FP) if (TP + FP) > 0 else 0\n",
    "    sensitivity = TP / (TP + FN) if (TP + FN) > 0 else 0\n",
    "    specificity = TN / (TN + FP) if (TN + FP) > 0 else 0\n",
    "    f1_score = 2 * (precision * sensitivity) / (precision + sensitivity) if (precision + sensitivity) > 0 else 0\n",
    "    return accuracy, precision, sensitivity, specificity, f1_score"
   ]
  },
  {
   "cell_type": "markdown",
   "metadata": {},
   "source": [
    "### Task 10\n",
    "In this part, we will first sort the predicted probabilities and corresponding actual labels from high to low and use a loop to calculate the accumulated tpr and fpr to plot the ROC curve. Calculate the area under the curve and we can get the final AUC value."
   ]
  },
  {
   "cell_type": "code",
   "execution_count": 7,
   "metadata": {},
   "outputs": [
    {
     "data": {
      "image/png": "[encoded data removed]",
      "text/plain": [
       "<Figure size 640x480 with 1 Axes>"
      ]
     },
     "metadata": {},
     "output_type": "display_data"
    },
    {
     "name": "stdout",
     "output_type": "stream",
     "text": [
      "AUC: 0.8503112620260332\n"
     ]
    }
   ],
   "source": [
    "import matplotlib.pyplot as plt\n",
    "def ROC_AUC(actual, predicted_probabilities):\n",
    "    \"\"\"\n",
    "    Plot ROC curve and calculate AUC.\n",
    "\n",
    "    Args:\n",
    "    actual (list): List of actual labels.\n",
    "    predicted_probabilities (list): List of predicted probabilities for the positive class.\n",
    "\n",
    "    Returns:\n",
    "    float: AUC value.\n",
    "    \"\"\"\n",
    "    # Sort the predicted probabilities and corresponding actual labels\n",
    "    sorted_indices = sorted(range(len(predicted_probabilities)), key=lambda i: predicted_probabilities[i], reverse=True)\n",
    "    actual_sorted = [actual[i] for i in sorted_indices]\n",
    "    predicted_probabilities_sorted = [predicted_probabilities[i] for i in sorted_indices]\n",
    "\n",
    "    # Initialize variables\n",
    "    tpr_list, fpr_list = [0],[0]\n",
    "    auc=0\n",
    "    tp = fp = 0\n",
    "    total_positive = sum(actual)\n",
    "    total_negative = len(actual) - sum(actual)\n",
    "\n",
    "    # Calculate TPR and FPR\n",
    "    for i in range(len(actual)):\n",
    "        if actual_sorted[i] == 1:\n",
    "            tp += 1\n",
    "        else:\n",
    "            fp += 1\n",
    "\n",
    "        tpr = tp / total_positive\n",
    "        fpr = fp / total_negative\n",
    "        tpr_list.append(tpr)\n",
    "        fpr_list.append(fpr)\n",
    "\n",
    "    # Calculate area under the curve which is the final AUC value\n",
    "    for i in range(len(fpr_list) - 1):\n",
    "        auc += (fpr_list[i + 1] - fpr_list[i]) * (tpr_list[i + 1] + tpr_list[i]) / 2\n",
    "\n",
    "    # Plot ROC curve\n",
    "    plt.plot(fpr_list, tpr_list, marker='.', linestyle='-')\n",
    "    plt.xlabel('False Positive Rate')\n",
    "    plt.ylabel('True Positive Rate')\n",
    "    plt.title('ROC Curve')\n",
    "    plt.grid(True)\n",
    "    plt.show()\n",
    "\n",
    "    return auc\n",
    "auc = ROC_AUC(df['class'], df['scored.probability'])\n",
    "print(\"AUC:\", auc)"
   ]
  },
  {
   "cell_type": "markdown",
   "metadata": {},
   "source": [
    "From the ROC Curve results, we can infer that the relationship between sensitivity and specificity is performing well. The AUC calculation shows a approximate 0.85. A higher AUC value indicates a better performance of the model at distinguishing the positive and negative classes, thus the model performs well."
   ]
  },
  {
   "cell_type": "markdown",
   "metadata": {},
   "source": [
    "### Task 11\n",
    "Apply the Python functions we’ve created to the relevant columns of the provided data set to produce the classification metrics specified in steps 5 through 9 of this assignment."
   ]
  },
  {
   "cell_type": "code",
   "execution_count": 8,
   "metadata": {},
   "outputs": [
    {
     "name": "stdout",
     "output_type": "stream",
     "text": [
      "Accuracy:     0.8066298342541437\n",
      "Precision:    0.84375\n",
      "Sensitivity:  0.47368421052631576\n",
      "Specificity:  0.9596774193548387\n",
      "F1 Score:     0.6067415730337079\n"
     ]
    }
   ],
   "source": [
    "accuracy, precision, sensitivity, specificity, f1_score = task5_9(df['class'], df['scored.class'])\n",
    "print(\"Accuracy:    \", accuracy)\n",
    "print(\"Precision:   \", precision)\n",
    "print(\"Sensitivity: \", sensitivity)\n",
    "print(\"Specificity: \", specificity)\n",
    "print(\"F1 Score:    \", f1_score)"
   ]
  },
  {
   "cell_type": "markdown",
   "metadata": {},
   "source": [
    "### Task 12\n",
    "Now compare the output of our functions against the output of the pre-built functions available within the scikit-learn library. Specifically, apply the confusion_matrix(), accuracy_score(), precision_score(), recall_score() (remember: recall = sensitivity), f1_score(), and the metrics.classification_report() functions to the relevant columns of the provided data set. Discuss how\n",
    "well the results of these pre-built functions compare to those of the functions you’ve created for this assignment.\n",
    "\n",
    "__Result Analysis:__\n",
    "Comparing the output of our functions against the output of the pre-built functions. We can see that the result are all the same. So, after getting to understand the meaning of the function to model performance, we can directly use the pre-build function to evalute the model. But the pre-build function can't calculate the specificity. We need to use confusion_matrix to create a function if necessary.\n",
    "|    | Pre-build  Function        | Created Function  | \n",
    "|-------------|---------------------|------------|\n",
    "| Accuracy  |  0.8066298342541437                  | 0.8066298342541437  | \n",
    "| Precision| 0.84375                  | 0.84375| \n",
    "| F1 Score| 0.6067415730337079                   |  0.6067415730337079   | \n",
    "| Recall| 0.47368421052631576                 | 0.47368421052631576   | \n",
    "| Specificity| /                   |  0.9596774193548387  | "
   ]
  },
  {
   "cell_type": "code",
   "execution_count": 9,
   "metadata": {},
   "outputs": [
    {
     "data": {
      "text/html": [
       "<div>\n",
       "<style scoped>\n",
       "    .dataframe tbody tr th:only-of-type {\n",
       "        vertical-align: middle;\n",
       "    }\n",
       "\n",
       "    .dataframe tbody tr th {\n",
       "        vertical-align: top;\n",
       "    }\n",
       "\n",
       "    .dataframe thead th {\n",
       "        text-align: right;\n",
       "    }\n",
       "</style>\n",
       "<table border=\"1\" class=\"dataframe\">\n",
       "  <thead>\n",
       "    <tr style=\"text-align: right;\">\n",
       "      <th></th>\n",
       "      <th>Predict 0</th>\n",
       "      <th>Predict 1</th>\n",
       "    </tr>\n",
       "  </thead>\n",
       "  <tbody>\n",
       "    <tr>\n",
       "      <th>True 0</th>\n",
       "      <td>119</td>\n",
       "      <td>5</td>\n",
       "    </tr>\n",
       "    <tr>\n",
       "      <th>True 1</th>\n",
       "      <td>30</td>\n",
       "      <td>27</td>\n",
       "    </tr>\n",
       "  </tbody>\n",
       "</table>\n",
       "</div>"
      ],
      "text/plain": [
       "        Predict 0  Predict 1\n",
       "True 0        119          5\n",
       "True 1         30         27"
      ]
     },
     "execution_count": 9,
     "metadata": {},
     "output_type": "execute_result"
    }
   ],
   "source": [
    "# Load packages\n",
    "from sklearn.metrics import confusion_matrix\n",
    "con_matrix = pd.DataFrame(confusion_matrix(df['class'], df['scored.class']),columns = ['Predict 0', 'Predict 1'],\n",
    "    index = ['True 0', 'True 1'])\n",
    "con_matrix"
   ]
  },
  {
   "cell_type": "code",
   "execution_count": 10,
   "metadata": {},
   "outputs": [
    {
     "name": "stdout",
     "output_type": "stream",
     "text": [
      "Accuracy:   0.8066298342541437\n",
      "Precision:   0.84375\n",
      "Recall:    0.47368421052631576\n",
      "F1 Score:   0.6067415730337079\n",
      "-------------------------------------------------------\n",
      "              precision    recall  f1-score   support\n",
      "\n",
      "           0       0.80      0.96      0.87       124\n",
      "           1       0.84      0.47      0.61        57\n",
      "\n",
      "    accuracy                           0.81       181\n",
      "   macro avg       0.82      0.72      0.74       181\n",
      "weighted avg       0.81      0.81      0.79       181\n",
      "\n"
     ]
    }
   ],
   "source": [
    "from sklearn.metrics import accuracy_score\n",
    "from sklearn.metrics import precision_score\n",
    "from sklearn.metrics import recall_score\n",
    "from sklearn.metrics import f1_score\n",
    "from sklearn.metrics import classification_report\n",
    "\n",
    "print(\"Accuracy:  \",accuracy_score(df['class'],df['scored.class']))\n",
    "print(\"Precision:  \",precision_score(df['class'],df['scored.class']))\n",
    "print(\"Recall:   \",recall_score(df['class'],df['scored.class']))\n",
    "print(\"F1 Score:  \",f1_score(df['class'],df['scored.class']))\n",
    "print(\"-------------------------------------------------------\")\n",
    "print(classification_report(df['class'],df['scored.class']))"
   ]
  },
  {
   "cell_type": "markdown",
   "metadata": {},
   "source": [
    "### Task 13\n",
    "Using the metrics.plot_roc_curve () and metrics.auc() functions from the scikit-learn package to generate a ROC plot and calculate AUC for the provided data set. How do the results compare with the ROC/AUC function you’ve created for this assignment?\n",
    "\n",
    "__Result Analisis:__ The result of the prebuild function for ROC is same with the created one and it can provide more information.  The result of AUC is similar. The difference is very small and can be ignored. So, we can directly use prebuild function in the future analysis."
   ]
  },
  {
   "cell_type": "code",
   "execution_count": 11,
   "metadata": {},
   "outputs": [
    {
     "data": {
      "image/png": "[encoded data removed]",
      "text/plain": [
       "<Figure size 640x480 with 1 Axes>"
      ]
     },
     "metadata": {},
     "output_type": "display_data"
    },
    {
     "data": {
      "image/png": "[encoded data removed]",
      "text/plain": [
       "<Figure size 640x480 with 1 Axes>"
      ]
     },
     "metadata": {},
     "output_type": "display_data"
    },
    {
     "name": "stdout",
     "output_type": "stream",
     "text": [
      "AUC by Pre-build function is : 0.8503112620260327\n",
      "AUC by created function is : 0.8503112620260332\n"
     ]
    }
   ],
   "source": [
    "import scikitplot as skplt\n",
    "from sklearn import metrics\n",
    "from sklearn.metrics import roc_auc_score\n",
    "y=df['class']\n",
    "y_prob=df['scored.probability'].reset_index().values\n",
    "\n",
    "#Use the metrics.plot_roc function to get the ROC\n",
    "skplt.metrics.plot_roc(y, y_prob, cmap='nipy_spectral')\n",
    "plt.show()\n",
    "\n",
    "# Use the roc_auc_score function to get the AUC and compare with the created function\n",
    "AUC = roc_auc_score(df['class'], df['scored.probability'])\n",
    "auc = ROC_AUC(df['class'], df['scored.probability'])\n",
    "\n",
    "print(\"AUC by Pre-build function is :\" ,AUC)\n",
    "print(\"AUC by created function is :\", auc)"
   ]
  },
  {
   "cell_type": "markdown",
   "metadata": {},
   "source": [
    "## Conclusion\n",
    "Through tasks 1 to 11, we have mastered crosstab(), value_counts(), and gained a deeper understanding of model evaluation metrics, becoming more proficient with the logic behind calculating accuracy, precision, recall, specificity, and F1 Score. Through tasks 12 and 13, we have become skilled at using pre-built functions and comparing the results with our own custom functions, finding them to be completely consistent. Through these tasks, we have not only become better at using prebuilt functionalities but also have gained a deeper understanding of the underlying logic and thought processes."
   ]
  },
  {
   "cell_type": "markdown",
   "metadata": {},
   "source": [
    "## References\n",
    "- https://scikit-learn.org/stable/modules/generated/sklearn.metrics.auc.html\n",
    "- https://scikit-learn.org/stable/auto_examples/model_selection/plot_roc.html\n",
    "- https://scikit-learn.org/stable/modules/generated/sklearn.metrics.roc_auc_score.html\n",
    "- https://mmuratarat.github.io/2019-10-01/how-to-compute-AUC-plot-ROC-by-hand"
   ]
  }
 ],
 "metadata": {
  "kernelspec": {
   "display_name": "Python 3.8.5 ('yolox')",
   "language": "python",
   "name": "python3"
  },
  "language_info": {
   "codemirror_mode": {
    "name": "ipython",
    "version": 3
   },
   "file_extension": ".py",
   "mimetype": "text/x-python",
   "name": "python",
   "nbconvert_exporter": "python",
   "pygments_lexer": "ipython3",
   "version": "3.8.5"
  },
  "vscode": {
   "interpreter": {
    "hash": "8ef54075041f332877bc209aa71293608dc12058505644605b2811ab06d06494"
   }
  }
 },
 "nbformat": 4,
 "nbformat_minor": 2
}
