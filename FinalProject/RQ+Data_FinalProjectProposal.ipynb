{
 "cells": [
  {
   "cell_type": "markdown",
   "metadata": {},
   "source": [
    "# 2 Reasearch Questions\n",
    "1. __What are the key factors affecting hotel booking cancellation, and how can we predict the cancellations?__  \n",
    "    The research into factors influencing hotel booking cancellations and predictive modeling can have significant implement for the hotel bussiness. Most online travel agency have loose cancellation policy for users, in oreder to encourage the booking activities. However the pressure for handling the cancellations falls on the hotels, for cancelled rooms lead to revenue loss and reduced profits due to price reductions, and increase advertising costs. By identifying key factors in booking information that contribute to cancellations, such as lead time, deposit type, and special requests, hotels can predict the cancellation of the booking orders and  make informed decisions about overbooking, room pricing, and staffing levels, ultimately enhancing efficiency, profitability, and customer satisfaction.\n",
    "    With this predictive model, hotels can proactively identify which users are likely to cancel their bookings and take remedial actions in a timely manner. For instance, by reaching out to users with a higher likelihood of cancellation in advance, hotels can encourage them to cancel their bookings as early as possible, thereby allowing the hotel to free up more rooms for sale.Alternatively, hotels can also engage with users who show tendencies to cancel by highlighting the advantages of staying at the hotel and offering incentives or rewards for staying, aiming to persuade them to retain their bookings.\n",
    "2. __Does different deposit types have different pattern when predicting the booking cancellations?__  \n",
    "    Exploring the impact of various deposit types on hotel booking cancellations can provide valuable insights into understanding customer behavior and optimizing cancellation prediction models. Different deposit types, such as non-refundable deposits, refundable deposits, or no deposits, may influence cancellation patterns differently due to varying levels of commitment from guests. Understanding how each deposit type can aid hotels in deciding their cancellation policies and pricing strategies to mitigate revenue loss and maximize profitability. For example, if a predictive model indicates that bookings made with non-refundable deposits have a higher likelihood of cancellation, hotels can reach out to these guests ahead of time to encourage them to confirm or modify their bookings. \n"
   ]
  },
  {
   "cell_type": "markdown",
   "metadata": {},
   "source": [
    "# 3 Data to be Used\n",
    "The data we will be using is sourced from github: https://github.com/rfordatascience/tidytuesday/tree/master/data/2020/2020-02-11. We will be using pandas to read the raw file directly from the website. To maintain consistency, we download the raw file from the website, save it to our own repository, and then use pandas to read the CSV file.  \n",
    "Data contains 119390 rows of observation and 32 variables. There are 16 variables are strings data type and 20 variables are numeric values.\n",
    "__Data Dictionary__\n",
    "\n",
    "| Variable                        | Description                                                                                                          |\n",
    "|--------------------------------|----------------------------------------------------------------------------------------------------------------------|\n",
    "| hotel                          | Hotel (H1 = Resort Hotel or H2 = City Hotel)                                                                         |\n",
    "| lead_time                      | Number of days that elapsed between the entering date of the booking into the PMS and the arrival date             |\n",
    "| arrival_date_year              | Year of arrival date                                                                                                 |\n",
    "| arrival_date_month             | Month of arrival date                                                                                                |\n",
    "| arrival_date_week_number       | Week number of year for arrival date                                                                                 |\n",
    "| arrival_date_day_of_month      | Day of arrival date                                                                                                  |\n",
    "| stays_in_weekend_nights        | Number of weekend nights (Saturday or Sunday) the guest stayed or booked to stay at the hotel                       |\n",
    "| stays_in_week_nights           | Number of week nights (Monday to Friday) the guest stayed or booked to stay at the hotel                            |\n",
    "| adults                         | Number of adults                                                                                                     |\n",
    "| children                       | Number of children                                                                                                   |\n",
    "| babies                         | Number of babies                                                                                                     |\n",
    "| meal                           | Type of meal booked. Categories are presented in standard hospitality meal packages                                 |\n",
    "| country                        | Country of origin. Categories are represented in the ISO 3155–3:2013 format                                         |\n",
    "| market_segment                 | Market segment designation. In categories, the term \"TA\" means \"Travel Agents\" and \"TO\" means \"Tour Operators\"      |\n",
    "| distribution_channel           | Booking distribution channel. The term \"TA\" means \"Travel Agents\" and \"TO\" means \"Tour Operators\"                   |\n",
    "| is_repeated_guest              | Value indicating if the booking name was from a repeated guest (1) or not (0)                                       |\n",
    "| previous_cancellations         | Number of previous bookings that were cancelled by the customer prior to the current booking                          |\n",
    "| previous_bookings_not_canceled | Number of previous bookings not cancelled by the customer prior to the current booking                               |\n",
    "| reserved_room_type             | Code of room type reserved. Code is presented instead of designation for anonymity reasons                           |\n",
    "| assigned_room_type             | Code for the type of room assigned to the booking. Sometimes the assigned room type differs from the reserved room type due to hotel operation reasons (e.g. overbooking) or by customer request. Code is presented instead of designation for anonymity reasons | \n",
    "| booking_changes                | Number of changes/amendments made to the booking from the moment the booking was entered on the PMS until the moment of check-in or cancellation |\n",
    "| deposit_type                   | Indication on if the customer made a deposit to guarantee the booking                                                |\n",
    "| agent                          | ID of the travel agency that made the booking                                                                        |\n",
    "| company                        | ID of the company/entity that made the booking or responsible for paying the booking                                  |\n",
    "| days_in_waiting_list           | Number of days the booking was in the waiting list before it was confirmed to the customer                           |\n",
    "| customer_type                  | Type of booking, assuming one of four categories                                                                     |\n",
    "| adr                            | Average Daily Rate as defined by dividing the sum of all lodging transactions by the total number of staying nights |\n",
    "| required_car_parking_spaces    | Number of car parking spaces required by the customer                                                                |\n",
    "| total_of_special_requests      | Number of special requests made by the customer (e.g. twin bed or high floor)                                        |\n",
    "| reservation_status             | Reservation last status, assuming one of three categories                                                            |\n",
    "| reservation_status_date        | Date at which the last status was set. This variable can be used in conjunction with the ReservationStatus           |\n"
   ]
  },
  {
   "cell_type": "markdown",
   "metadata": {},
   "source": [
    "# References\n",
    "Dataset source: https://github.com/rfordatascience/tidytuesday/tree/master/data/2020/2020-02-11\n",
    "\n",
    "Domain Knowledge:\n",
    "Antonio, N., de Almeida, A., and Nunes, L. (2019). Hotel booking demand datasets: https://www.sciencedirect.com/science/article/pii/S2352340918315191  "
   ]
  }
 ],
 "metadata": {
  "kernelspec": {
   "display_name": "Python 3.8.5 ('yolox')",
   "language": "python",
   "name": "python3"
  },
  "language_info": {
   "name": "python",
   "version": "3.8.5"
  },
  "orig_nbformat": 4,
  "vscode": {
   "interpreter": {
    "hash": "8ef54075041f332877bc209aa71293608dc12058505644605b2811ab06d06494"
   }
  }
 },
 "nbformat": 4,
 "nbformat_minor": 2
}
