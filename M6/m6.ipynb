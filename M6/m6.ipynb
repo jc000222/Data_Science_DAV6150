{
 "cells": [
  {
   "cell_type": "markdown",
   "metadata": {},
   "source": [
    "# Project 1 (M6): Regression for Numeric Data\n",
    "# DAV 6150\n",
    "\n",
    "- Group Members: Qing Dou, Ruoyu Chen, Zhengnan Li\n",
    "- Repository: "
   ]
  },
  {
   "cell_type": "code",
   "execution_count": 2,
   "metadata": {},
   "outputs": [],
   "source": [
    "import pandas as pd\n",
    "import numpy as np\n",
    "import matplotlib.pyplot as plt\n",
    "import seaborn as sns"
   ]
  },
  {
   "cell_type": "markdown",
   "metadata": {},
   "source": [
    "# 1. Introduction\n",
    "In this analysis, we will be working with a dataset comprised of information pertaining to NY State High School graduation metrics for the 2018-2019 school year. We will apply the full data science project lifecycle to the implementation of a series of regression models."
   ]
  },
  {
   "cell_type": "markdown",
   "metadata": {},
   "source": [
    "### 1.1 Approach:\n",
    "- [Introduction](#1-introduction): Import the data set and introduce data variables.  \n",
    "- [EDA](#2-eda): Explore the raw dataset and do analysis based on domain knowledge.  \n",
    "- [Data Preparation](#3-Data-Preparation): Perform data cleaning, imputation and transformation.  \n",
    "- [Prepped Data Overview](#4-Prepped-Data-Overview): Re-run the EDA to ensure the data is well prepared for subsequent modeling.  \n",
    "- [Regression Modeling](#5-Regression-Modeling): Perform two Poisson, two different negative binomial, two multiple linear regression models and analyse the metrics of the model.  \n",
    "- [Select Models](#6-Select-Models): Explain how we selected the model selection criteria.  \n",
    "- [Conclusion](#7-Conclusion)"
   ]
  },
  {
   "cell_type": "markdown",
   "metadata": {},
   "source": [
    "### 1.2 Data Introduction\n"
   ]
  },
  {
   "cell_type": "markdown",
   "metadata": {},
   "source": [
    "The dataset is comprised of more than 73,000 observations, each of which pertains to a particular NY State school district and associated subgroupings/categorizations of high school students who had been enrolled for at least 4 years as of the end of the 2018-2019 school year. A data dictionary describing the attributes contained within the file is provided below.  \n",
    "The dataset is sourced from the NY \n",
    "State Education Department (NYSED): https://data.nysed.gov/downloads.php"
   ]
  },
  {
   "cell_type": "code",
   "execution_count": null,
   "metadata": {},
   "outputs": [],
   "source": []
  },
  {
   "cell_type": "markdown",
   "metadata": {},
   "source": [
    "# 2. EDA"
   ]
  },
  {
   "cell_type": "markdown",
   "metadata": {},
   "source": [
    "# 3. Data Preparation"
   ]
  },
  {
   "cell_type": "markdown",
   "metadata": {},
   "source": [
    "# 4. Prepped Data Overview"
   ]
  },
  {
   "cell_type": "markdown",
   "metadata": {},
   "source": [
    "# 5. Regression Modeling"
   ]
  },
  {
   "cell_type": "markdown",
   "metadata": {},
   "source": [
    "# 6. Select Models"
   ]
  },
  {
   "cell_type": "markdown",
   "metadata": {},
   "source": [
    "# 7. Conclusion"
   ]
  }
 ],
 "metadata": {
  "kernelspec": {
   "display_name": "Python 3.10.13 ('AP')",
   "language": "python",
   "name": "python3"
  },
  "language_info": {
   "codemirror_mode": {
    "name": "ipython",
    "version": 3
   },
   "file_extension": ".py",
   "mimetype": "text/x-python",
   "name": "python",
   "nbconvert_exporter": "python",
   "pygments_lexer": "ipython3",
   "version": "3.10.13"
  },
  "orig_nbformat": 4,
  "vscode": {
   "interpreter": {
    "hash": "b1ed10256b798dfe2af017ac6cb23cd3655eebf7de92fb5ac9de5f54fe908f00"
   }
  }
 },
 "nbformat": 4,
 "nbformat_minor": 2
}
